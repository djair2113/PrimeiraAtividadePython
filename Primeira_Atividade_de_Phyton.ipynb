{
  "nbformat": 4,
  "nbformat_minor": 0,
  "metadata": {
    "colab": {
      "provenance": [],
      "authorship_tag": "ABX9TyNmpdLN3WA/6nyQWngInWy0",
      "include_colab_link": true
    },
    "kernelspec": {
      "name": "python3",
      "display_name": "Python 3"
    },
    "language_info": {
      "name": "python"
    }
  },
  "cells": [
    {
      "cell_type": "markdown",
      "metadata": {
        "id": "view-in-github",
        "colab_type": "text"
      },
      "source": [
        "<a href=\"https://colab.research.google.com/github/djair2113/PrimeiraAtividadePython/blob/main/Primeira_Atividade_de_Phyton.ipynb\" target=\"_parent\"><img src=\"https://colab.research.google.com/assets/colab-badge.svg\" alt=\"Open In Colab\"/></a>"
      ]
    },
    {
      "cell_type": "code",
      "execution_count": null,
      "metadata": {
        "colab": {
          "base_uri": "https://localhost:8080/"
        },
        "outputId": "dd58a01a-e286-4d27-dfc1-764f1d39ed02",
        "id": "zv44XlduRF1C"
      },
      "outputs": [
        {
          "output_type": "stream",
          "name": "stdout",
          "text": [
            "Desafio para Aprender Números \n",
            " Crie um programa onde a pessoa irá escrever dois números inteiros quaisquer e quero que tenha as seguintes informações:\n",
            "Soma,Subtração,multiplicação,divisão,exponenciação,divisão inteira, módulo dos dois números.\n",
            "depois quero que vocês comentem o que cada coisa faz, e a explicação do seu jeito de como foi resolvido os problemas e as dificuldades que passou.\n",
            "n1 + n2 = 15\n",
            "n1 - n2 = -1\n",
            "n1 * n2 = 56\n",
            "n1 / n2 = 0.875\n",
            "n1 ** n2 = 5764801\n",
            "n1 // n2 = 0\n",
            "n1 % n2 = 7\n"
          ]
        }
      ],
      "source": [
        "print('Desafio para Aprender Números \\n Crie um programa onde a pessoa irá escrever dois números inteiros quaisquer e quero que tenha as seguintes informações:')\n",
        "print('Soma,Subtração,multiplicação,divisão,exponenciação,divisão inteira, módulo dos dois números.')\n",
        "print('depois quero que vocês comentem o que cada coisa faz, e a explicação do seu jeito de como foi resolvido os problemas e as dificuldades que passou.')\n",
        "\n",
        "n1 = 7\n",
        "n2 = 8\n",
        "\n",
        "soma = n1 + n2\n",
        "subtracao = n1 - n2\n",
        "multiplicacao = n1 * n2\n",
        "divisao = n1 / n2\n",
        "exponenciacao = n1 ** n2\n",
        "divisao_inteira = n1 // n2\n",
        "modulo = n1 % n2\n",
        "\n",
        "print('n1 + n2','=',soma)\n",
        "print('n1 - n2','=',subtracao)\n",
        "print('n1 * n2','=',multiplicacao)\n",
        "print('n1 / n2','=',divisao)\n",
        "print('n1 ** n2','=',exponenciacao)\n",
        "print('n1 // n2','=',divisao_inteira)\n",
        "print('n1 % n2','=',modulo)\n",
        "\n",
        "#Como primeira atividade achei muito incrivel.\n",
        "#Dificuldades somente em entender como a IDE do Python funciona.\n",
        "\n",
        "\n",
        "\n"
      ]
    }
  ]
}